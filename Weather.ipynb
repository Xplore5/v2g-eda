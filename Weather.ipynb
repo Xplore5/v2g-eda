{
 "cells": [
  {
   "cell_type": "markdown",
   "id": "fef4444d-7d48-4a1a-99d2-f7a71adabe1c",
   "metadata": {},
   "source": [
    "# Read Me\n",
    "* This file contains two sets of weather data for Singapore from January to June 2025. \n",
    "* The column names are described here: https://dev.meteostat.net/formats.html#meteorological-parameters\n",
    "* You can find the two datasets in the weather_data folder.\n",
    "\n",
    "1. Changi Station Weather Data (weather_changi.csv)\n",
    "\n",
    "* This dataset contains weather observations from the Changi meteorological station, which is the official and most representative station for Singapore’s overall weather.\n",
    "\n",
    "* Changi Station data is straightforward and widely used as the standard reference due to its long-term reliability and comprehensive coverage. Use this dataset for general analysis where a single, authoritative source is sufficient to represent Singapore’s climate.\n",
    "\n",
    "2. Five-Region Weather Data (weather_region.csv)\n",
    "\n",
    "* This dataset includes weather data from five representative stations across Singapore’s main regions: East (Changi), West (Jurong), South (Harbourfront/Marina South), North (Sembawang), and Central (Marina Centre).\n",
    "\n",
    "* It captures local variations and microclimates across different parts of the city. Use this dataset when regional weather differences are important, or when a more detailed spatial analysis of Singapore’s climate is needed.\n",
    "\n",
    "* The Region column marks the source area of each data record."
   ]
  },
  {
   "cell_type": "markdown",
   "id": "013312d1-2254-4d62-88c3-91e50a836b00",
   "metadata": {},
   "source": [
    "## Changi Station Weather Data"
   ]
  },
  {
   "cell_type": "code",
   "execution_count": 30,
   "id": "dc240882-1f89-45b6-8b7f-1d630971ebf5",
   "metadata": {},
   "outputs": [],
   "source": [
    "# pip install meteostat\n",
    "from datetime import datetime\n",
    "from meteostat import Stations, Hourly, Point\n",
    "import matplotlib.pyplot as plt\n",
    "import pandas as pd"
   ]
  },
  {
   "cell_type": "code",
   "execution_count": 31,
   "id": "c90bfb7f-5dc9-4712-b43f-3c251afc1781",
   "metadata": {},
   "outputs": [],
   "source": [
    "# Select Changi as the most representative weather station for Singapore\n",
    "lat, lon = 1.3521, 103.8198\n",
    "stations = Stations().nearby(lat, lon)\n",
    "changi_station = stations.fetch(1)            # Find the nearest station\n",
    "changi_station_id = changi_station.index[0]          # meteostat Changi station ID\n",
    "\n",
    "# Download hourly data（2025-01-01 ~ 2025-06-30）\n",
    "start = datetime(2024,12,31,16,00) # In order to get the data of 2025-1-1 12am, it is necessary to start from 2024-12-31 4pm\n",
    "end   = datetime(2025,6,30,23,59)\n",
    "changi_data = Hourly(changi_station_id, start, end)\n",
    "changi_df_hour = changi_data.fetch()                 # DataFrame，index 为 UTC 时间\n",
    "\n",
    "# 3) 转换为本地时间（SGT = Asia/Singapore），并重采样为 30-min（插值）\n",
    "if changi_df_hour.index.tz is None:\n",
    "    changi_df_hour = changi_df_hour.tz_localize('UTC').tz_convert('Asia/Singapore')\n",
    "else:\n",
    "    changi_df_hour = changi_df_hour.tz_convert('Asia/Singapore')\n",
    "\n",
    "# Remove time zone information\n",
    "changi_df_hour.index = changi_df_hour.index.tz_localize(None)\n",
    "\n",
    "# Resample to 30 minutes, linear interpolation\n",
    "changi_df_30 = changi_df_hour.resample('30min').interpolate(method='time')"
   ]
  },
  {
   "cell_type": "code",
   "execution_count": 32,
   "id": "3706876b-193f-4be0-9722-fabcfca1cd10",
   "metadata": {},
   "outputs": [
    {
     "name": "stdout",
     "output_type": "stream",
     "text": [
      "                     temp  dwpt  rhum  prcp  snow  wdir  wspd  wpgt    pres  \\\n",
      "time                                                                          \n",
      "2025-01-01 00:00:00  26.0  24.0  89.0   0.0  <NA>  20.0  11.2  <NA>  1011.0   \n",
      "2025-01-01 00:30:00  26.0  24.0  89.0   0.0  <NA>  25.0  11.2  <NA>  1011.0   \n",
      "2025-01-01 01:00:00  26.0  24.0  89.0   0.0  <NA>  30.0  11.2  <NA>  1011.0   \n",
      "2025-01-01 01:30:00  26.0  24.0  89.0   0.0  <NA>  20.0   9.4  <NA>  1010.5   \n",
      "2025-01-01 02:00:00  26.0  24.0  89.0   0.0  <NA>  10.0   7.6  <NA>  1010.0   \n",
      "\n",
      "                     tsun  coco  \n",
      "time                             \n",
      "2025-01-01 00:00:00  <NA>   3.0  \n",
      "2025-01-01 00:30:00  <NA>   3.0  \n",
      "2025-01-01 01:00:00  <NA>   3.0  \n",
      "2025-01-01 01:30:00  <NA>   3.0  \n",
      "2025-01-01 02:00:00  <NA>   3.0  \n"
     ]
    }
   ],
   "source": [
    "print(changi_df_30.head())"
   ]
  },
  {
   "cell_type": "code",
   "execution_count": 33,
   "id": "551c431c-6f47-42da-900c-8747363a3bd1",
   "metadata": {},
   "outputs": [
    {
     "name": "stdout",
     "output_type": "stream",
     "text": [
      "         DATE  PERIOD  temp  dwpt  rhum  prcp  snow  wdir  wspd  wpgt    pres  \\\n",
      "0  2025/01/01       1  26.0  24.0  89.0   0.0  <NA>  20.0  11.2  <NA>  1011.0   \n",
      "1  2025/01/01       2  26.0  24.0  89.0   0.0  <NA>  25.0  11.2  <NA>  1011.0   \n",
      "2  2025/01/01       3  26.0  24.0  89.0   0.0  <NA>  30.0  11.2  <NA>  1011.0   \n",
      "3  2025/01/01       4  26.0  24.0  89.0   0.0  <NA>  20.0   9.4  <NA>  1010.5   \n",
      "4  2025/01/01       5  26.0  24.0  89.0   0.0  <NA>  10.0   7.6  <NA>  1010.0   \n",
      "\n",
      "   tsun  coco  \n",
      "0  <NA>   3.0  \n",
      "1  <NA>   3.0  \n",
      "2  <NA>   3.0  \n",
      "3  <NA>   3.0  \n",
      "4  <NA>   3.0  \n"
     ]
    }
   ],
   "source": [
    "# Modify the time format to align with USEP timestamps\n",
    "changi_df_period = changi_df_30.reset_index()\n",
    "\n",
    "changi_df_period['DATE'] = changi_df_period['time'].dt.strftime('%Y/%m/%d')\n",
    "\n",
    "# Add PERIOD column，range from 1 to 48 (30 min/period for 24 hours)\n",
    "changi_df_period['PERIOD'] = changi_df_period['time'].dt.hour * 2 + changi_df_period['time'].dt.minute // 30 + 1\n",
    "\n",
    "cols = ['DATE', 'PERIOD'] + [col for col in changi_df_period.columns if col not in ['time', 'DATE', 'PERIOD']]\n",
    "changi_df_period = changi_df_period[cols]\n",
    "\n",
    "print(changi_df_period.head())"
   ]
  },
  {
   "cell_type": "code",
   "execution_count": 34,
   "id": "4b18dac3-8c6d-4ea1-8e9a-edb1ef4a882e",
   "metadata": {},
   "outputs": [],
   "source": [
    "# Export the weather data of Changi Station to csv\n",
    "#changi_df_period.to_csv('weather_changi.csv', index=False, encoding='utf-8')"
   ]
  },
  {
   "cell_type": "markdown",
   "id": "cea2197f-43b6-4b27-9d0c-7350baa4f712",
   "metadata": {},
   "source": [
    "## Five-Region Weather Data"
   ]
  },
  {
   "cell_type": "code",
   "execution_count": 35,
   "id": "78a5f2bb-2b51-4377-af60-7d06ea49d9ac",
   "metadata": {},
   "outputs": [],
   "source": [
    "# Locating representative weather stations\n",
    "region_coords = {\n",
    "    'East': (1.3521, 103.8198),          # East: Changi\n",
    "    'West': (1.3327, 103.7432),          # West: Jurong\n",
    "    'South': (1.2734, 103.8198),         # South: Harbourfront / Marina South\n",
    "    'North': (1.4496, 103.8205),         # North: Sembawang\n",
    "    'Central': (1.2790, 103.8545)        # Central: Marina Centre\n",
    "}\n",
    "\n",
    "# Time Period\n",
    "start = datetime(2024,12,31,16,00) # In order to get the data of 2025-1-1 12am, it is necessary to start from 2024-12-31 4pm\n",
    "end = datetime(2025, 6, 30, 23, 59)\n",
    "\n",
    "all_data = []\n",
    "\n",
    "for region, (lat, lon) in region_coords.items():\n",
    "    # Find the nearest weather station ID for each region\n",
    "    stations = Stations().nearby(lat, lon)\n",
    "    station = stations.fetch(1)\n",
    "    station_id = station.index[0]\n",
    "\n",
    "    # Download hourly data\n",
    "    data = Hourly(station_id, start, end)\n",
    "    df_hour = data.fetch()\n",
    "\n",
    "    # Convert time zone from UTC to Singapore time\n",
    "    if df_hour.index.tz is None:\n",
    "        df_hour = df_hour.tz_localize('UTC').tz_convert('Asia/Singapore')\n",
    "    else:\n",
    "        df_hour = df_hour.tz_convert('Asia/Singapore')\n",
    "\n",
    "    # Remove time zone information\n",
    "    df_hour.index = df_hour.index.tz_localize(None)\n",
    "\n",
    "    # Resample to 30 minutes, linear interpolation\n",
    "    df_30 = df_hour.resample('30min').interpolate(method='time')\n",
    "\n",
    "    # Add new column to lable \"region\"\n",
    "    df_30['Region'] = region\n",
    "\n",
    "    all_data.append(df_30)\n",
    "\n",
    "# Merge all regions data\n",
    "df_all = pd.concat(all_data)"
   ]
  },
  {
   "cell_type": "code",
   "execution_count": 36,
   "id": "a7c6e70d-695f-471f-bc26-2e6b89eddb62",
   "metadata": {},
   "outputs": [
    {
     "name": "stdout",
     "output_type": "stream",
     "text": [
      "                     temp  dwpt  rhum  prcp  snow  wdir  wspd  wpgt    pres  \\\n",
      "time                                                                          \n",
      "2025-01-01 00:00:00  26.0  24.0  89.0   0.0  <NA>  20.0  11.2  <NA>  1011.0   \n",
      "2025-01-01 00:30:00  26.0  24.0  89.0   0.0  <NA>  25.0  11.2  <NA>  1011.0   \n",
      "2025-01-01 01:00:00  26.0  24.0  89.0   0.0  <NA>  30.0  11.2  <NA>  1011.0   \n",
      "2025-01-01 01:30:00  26.0  24.0  89.0   0.0  <NA>  20.0   9.4  <NA>  1010.5   \n",
      "2025-01-01 02:00:00  26.0  24.0  89.0   0.0  <NA>  10.0   7.6  <NA>  1010.0   \n",
      "\n",
      "                     tsun  coco Region  \n",
      "time                                    \n",
      "2025-01-01 00:00:00  <NA>   3.0   East  \n",
      "2025-01-01 00:30:00  <NA>   3.0   East  \n",
      "2025-01-01 01:00:00  <NA>   3.0   East  \n",
      "2025-01-01 01:30:00  <NA>   3.0   East  \n",
      "2025-01-01 02:00:00  <NA>   3.0   East  \n"
     ]
    }
   ],
   "source": [
    "print(df_all.head())"
   ]
  },
  {
   "cell_type": "code",
   "execution_count": 37,
   "id": "2ebe6bab-ea96-42fd-8b0b-472d37aaa5a0",
   "metadata": {},
   "outputs": [
    {
     "name": "stdout",
     "output_type": "stream",
     "text": [
      "         DATE  PERIOD  temp  dwpt  rhum  prcp  snow  wdir  wspd  wpgt    pres  \\\n",
      "0  2025/01/01       1  26.0  24.0  89.0   0.0  <NA>  20.0  11.2  <NA>  1011.0   \n",
      "1  2025/01/01       2  26.0  24.0  89.0   0.0  <NA>  25.0  11.2  <NA>  1011.0   \n",
      "2  2025/01/01       3  26.0  24.0  89.0   0.0  <NA>  30.0  11.2  <NA>  1011.0   \n",
      "3  2025/01/01       4  26.0  24.0  89.0   0.0  <NA>  20.0   9.4  <NA>  1010.5   \n",
      "4  2025/01/01       5  26.0  24.0  89.0   0.0  <NA>  10.0   7.6  <NA>  1010.0   \n",
      "\n",
      "   tsun  coco Region  \n",
      "0  <NA>   3.0   East  \n",
      "1  <NA>   3.0   East  \n",
      "2  <NA>   3.0   East  \n",
      "3  <NA>   3.0   East  \n",
      "4  <NA>   3.0   East  \n"
     ]
    }
   ],
   "source": [
    "# Modify the time format to align with USEP timestamps\n",
    "df_all_period = df_all.reset_index()\n",
    "\n",
    "df_all_period['DATE'] = df_all_period['time'].dt.strftime('%Y/%m/%d')\n",
    "\n",
    "# Add PERIOD column，range from 1 to 48 (30 min/period for 24 hours)\n",
    "df_all_period['PERIOD'] = df_all_period['time'].dt.hour * 2 + df_all_period['time'].dt.minute // 30 + 1\n",
    "\n",
    "cols = ['DATE', 'PERIOD'] + [col for col in df_all_period.columns if col not in ['time', 'DATE', 'PERIOD']]\n",
    "df_all_period = df_all_period[cols]\n",
    "\n",
    "print(df_all_period.head())"
   ]
  },
  {
   "cell_type": "code",
   "execution_count": 38,
   "id": "5047b26a-9bfe-421b-b2dd-f89fbed4a7cd",
   "metadata": {},
   "outputs": [],
   "source": [
    "# Export the weather data to csv\n",
    "#df_all_period.to_csv('weather_region.csv', index=False, encoding='utf-8')"
   ]
  },
  {
   "cell_type": "code",
   "execution_count": null,
   "id": "115d23ef-7553-4950-ab0e-7aec90b827e3",
   "metadata": {},
   "outputs": [],
   "source": []
  }
 ],
 "metadata": {
  "kernelspec": {
   "display_name": "python_venv",
   "language": "python",
   "name": "python_venv"
  },
  "language_info": {
   "codemirror_mode": {
    "name": "ipython",
    "version": 3
   },
   "file_extension": ".py",
   "mimetype": "text/x-python",
   "name": "python",
   "nbconvert_exporter": "python",
   "pygments_lexer": "ipython3",
   "version": "3.10.11"
  }
 },
 "nbformat": 4,
 "nbformat_minor": 5
}
