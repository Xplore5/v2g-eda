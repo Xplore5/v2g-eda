{
 "cells": [
  {
   "cell_type": "markdown",
   "id": "fef4444d-7d48-4a1a-99d2-f7a71adabe1c",
   "metadata": {},
   "source": [
    "# Read Me\n",
    "This file contains two sets of weather data for Singapore from January to June 2025. \n",
    "The column names are described here: https://dev.meteostat.net/formats.html#meteorological-parameters\n",
    "You can find the two datasets in the weather_data folder.\n",
    "\n",
    "1. Changi Station Weather Data (weather_changi.csv)\n",
    "\n",
    "* This dataset contains weather observations from the Changi meteorological station, which is the official and most representative station for Singapore’s overall weather.\n",
    "\n",
    "* Changi Station data is straightforward and widely used as the standard reference due to its long-term reliability and comprehensive coverage. Use this dataset for general analysis where a single, authoritative source is sufficient to represent Singapore’s climate.\n",
    "\n",
    "2. Five-Region Weather Data (weather_region.csv)\n",
    "\n",
    "* This dataset includes weather data from five representative stations across Singapore’s main regions: East (Changi), West (Jurong), South (Harbourfront/Marina South), North (Sembawang), and Central (Marina Centre).\n",
    "\n",
    "* It captures local variations and microclimates across different parts of the city. Use this dataset when regional weather differences are important, or when a more detailed spatial analysis of Singapore’s climate is needed.\n",
    "\n",
    "* The Region column marks the source area of each data record."
   ]
  },
  {
   "cell_type": "code",
   "execution_count": 2,
   "id": "dc240882-1f89-45b6-8b7f-1d630971ebf5",
   "metadata": {},
   "outputs": [],
   "source": [
    "# pip install meteostat\n",
    "from datetime import datetime\n",
    "from meteostat import Stations, Hourly, Point\n",
    "import matplotlib.pyplot as plt\n",
    "import pandas as pd"
   ]
  },
  {
   "cell_type": "code",
   "execution_count": 8,
   "id": "c90bfb7f-5dc9-4712-b43f-3c251afc1781",
   "metadata": {},
   "outputs": [],
   "source": [
    "# Select Changi as the most representative weather station for Singapore\n",
    "lat, lon = 1.3521, 103.8198\n",
    "stations = Stations().nearby(lat, lon)\n",
    "changi_station = stations.fetch(1)            # Find the nearest station\n",
    "changi_station_id = changi_station.index[0]          # meteostat Changi station ID\n",
    "\n",
    "# Download hourly data（2025-01-01 ~ 2025-06-30）\n",
    "start = datetime(2025,1,1)\n",
    "end   = datetime(2025,6,30,23,59)\n",
    "changi_data = Hourly(changi_station_id, start, end)\n",
    "changi_df_hour = changi_data.fetch()                 # DataFrame，index 为 UTC 时间\n",
    "\n",
    "# 3) 转换为本地时间（SGT = Asia/Singapore），并重采样为 30-min（插值）\n",
    "if changi_df_hour.index.tz is None:\n",
    "    changi_df_hour = changi_df_hour.tz_localize('UTC').tz_convert('Asia/Singapore')\n",
    "else:\n",
    "    changi_df_hour = changi_df_hour.tz_convert('Asia/Singapore')\n",
    "\n",
    "# Remove time zone information\n",
    "changi_df_hour.index = changi_df_hour.index.tz_localize(None)\n",
    "\n",
    "# Resample to 30 minutes, linear interpolation\n",
    "changi_df_30 = changi_df_hour.resample('30min').interpolate(method='time')"
   ]
  },
  {
   "cell_type": "code",
   "execution_count": 9,
   "id": "3706876b-193f-4be0-9722-fabcfca1cd10",
   "metadata": {},
   "outputs": [
    {
     "name": "stdout",
     "output_type": "stream",
     "text": [
      "                     temp   dwpt  rhum  prcp  snow   wdir  wspd  wpgt    pres  \\\n",
      "time                                                                            \n",
      "2025-01-01 08:00:00  26.0   24.0  89.0   0.0  <NA>  360.0   5.4  <NA>  1010.0   \n",
      "2025-01-01 08:30:00  26.5  24.05  86.5   0.0  <NA>  360.0   5.4  <NA>  1010.5   \n",
      "2025-01-01 09:00:00  27.0   24.1  84.0   0.0  <NA>  360.0   5.4  <NA>  1011.0   \n",
      "2025-01-01 09:30:00  27.5  24.05  81.5   0.0  <NA>  190.0   7.4  <NA>  1011.0   \n",
      "2025-01-01 10:00:00  28.0   24.0  79.0   0.0  <NA>   20.0   9.4  <NA>  1011.0   \n",
      "\n",
      "                     tsun  coco  \n",
      "time                             \n",
      "2025-01-01 08:00:00  <NA>   3.0  \n",
      "2025-01-01 08:30:00  <NA>   3.0  \n",
      "2025-01-01 09:00:00  <NA>   3.0  \n",
      "2025-01-01 09:30:00  <NA>   3.0  \n",
      "2025-01-01 10:00:00  <NA>   3.0  \n"
     ]
    }
   ],
   "source": [
    "print(changi_df_30.head())"
   ]
  },
  {
   "cell_type": "code",
   "execution_count": 10,
   "id": "4b18dac3-8c6d-4ea1-8e9a-edb1ef4a882e",
   "metadata": {},
   "outputs": [],
   "source": [
    "# Export the weather data of Changi Station to csv\n",
    "# changi_df_30.to_csv('weather_changi.csv', index=False, encoding='utf-8')"
   ]
  },
  {
   "cell_type": "code",
   "execution_count": 13,
   "id": "78a5f2bb-2b51-4377-af60-7d06ea49d9ac",
   "metadata": {},
   "outputs": [],
   "source": [
    "# Locating representative weather stations\n",
    "region_coords = {\n",
    "    'East': (1.3521, 103.8198),          # East: Changi\n",
    "    'West': (1.3327, 103.7432),          # West: Jurong\n",
    "    'South': (1.2734, 103.8198),         # South: Harbourfront / Marina South\n",
    "    'North': (1.4496, 103.8205),         # North: Sembawang\n",
    "    'Central': (1.2790, 103.8545)        # Central: Marina Centre\n",
    "}\n",
    "\n",
    "# Time Period\n",
    "start = datetime(2025, 1, 1)\n",
    "end = datetime(2025, 6, 30, 23, 59)\n",
    "\n",
    "all_data = []\n",
    "\n",
    "for region, (lat, lon) in region_coords.items():\n",
    "    # Find the nearest weather station ID for each region\n",
    "    stations = Stations().nearby(lat, lon)\n",
    "    station = stations.fetch(1)\n",
    "    station_id = station.index[0]\n",
    "\n",
    "    # Download hourly data\n",
    "    data = Hourly(station_id, start, end)\n",
    "    df_hour = data.fetch()\n",
    "\n",
    "    # Convert time zone from UTC to Singapore time\n",
    "    if df_hour.index.tz is None:\n",
    "        df_hour = df_hour.tz_localize('UTC').tz_convert('Asia/Singapore')\n",
    "    else:\n",
    "        df_hour = df_hour.tz_convert('Asia/Singapore')\n",
    "\n",
    "    # Remove time zone information\n",
    "    df_hour.index = df_hour.index.tz_localize(None)\n",
    "\n",
    "    # Resample to 30 minutes, linear interpolation\n",
    "    df_30 = df_hour.resample('30min').interpolate(method='time')\n",
    "\n",
    "    # Add new column to lable \"region\"\n",
    "    df_30['Region'] = region\n",
    "\n",
    "    all_data.append(df_30)\n",
    "\n",
    "# Merge all regions data\n",
    "df_all = pd.concat(all_data)"
   ]
  },
  {
   "cell_type": "code",
   "execution_count": 14,
   "id": "a7c6e70d-695f-471f-bc26-2e6b89eddb62",
   "metadata": {},
   "outputs": [
    {
     "name": "stdout",
     "output_type": "stream",
     "text": [
      "                     temp   dwpt  rhum  prcp  snow   wdir  wspd  wpgt    pres  \\\n",
      "time                                                                            \n",
      "2025-01-01 08:00:00  26.0   24.0  89.0   0.0  <NA>  360.0   5.4  <NA>  1010.0   \n",
      "2025-01-01 08:30:00  26.5  24.05  86.5   0.0  <NA>  360.0   5.4  <NA>  1010.5   \n",
      "2025-01-01 09:00:00  27.0   24.1  84.0   0.0  <NA>  360.0   5.4  <NA>  1011.0   \n",
      "2025-01-01 09:30:00  27.5  24.05  81.5   0.0  <NA>  190.0   7.4  <NA>  1011.0   \n",
      "2025-01-01 10:00:00  28.0   24.0  79.0   0.0  <NA>   20.0   9.4  <NA>  1011.0   \n",
      "\n",
      "                     tsun  coco Region  \n",
      "time                                    \n",
      "2025-01-01 08:00:00  <NA>   3.0   East  \n",
      "2025-01-01 08:30:00  <NA>   3.0   East  \n",
      "2025-01-01 09:00:00  <NA>   3.0   East  \n",
      "2025-01-01 09:30:00  <NA>   3.0   East  \n",
      "2025-01-01 10:00:00  <NA>   3.0   East  \n"
     ]
    }
   ],
   "source": [
    "print(df_all.head())"
   ]
  },
  {
   "cell_type": "code",
   "execution_count": 5,
   "id": "5047b26a-9bfe-421b-b2dd-f89fbed4a7cd",
   "metadata": {},
   "outputs": [],
   "source": [
    "# Export the weather data to csv\n",
    "# df_all.to_csv('weather_region.csv', index=False, encoding='utf-8')"
   ]
  }
 ],
 "metadata": {
  "kernelspec": {
   "display_name": "python_venv",
   "language": "python",
   "name": "python_venv"
  },
  "language_info": {
   "codemirror_mode": {
    "name": "ipython",
    "version": 3
   },
   "file_extension": ".py",
   "mimetype": "text/x-python",
   "name": "python",
   "nbconvert_exporter": "python",
   "pygments_lexer": "ipython3",
   "version": "3.10.11"
  }
 },
 "nbformat": 4,
 "nbformat_minor": 5
}
