{
 "cells": [
  {
   "cell_type": "markdown",
   "id": "fef4444d-7d48-4a1a-99d2-f7a71adabe1c",
   "metadata": {},
   "source": [
    "# Read Me\n",
    "* This file contains two sets of weather data for Singapore from January to June 2025. \n",
    "* The column names are described here: https://dev.meteostat.net/formats.html#meteorological-parameters\n",
    "* External data \"Cloud coverage (%)\" and \"solar irradiance (W/m²·h)\" have been integrated into the weather data.\n",
    "* You can find the two datasets in the Output Floder named weather_data.\n",
    "\n",
    "1. Changi Station Weather Data (weather_changi.csv)\n",
    "\n",
    "* This dataset contains weather observations from the Changi meteorological station, which is the official and most representative station for Singapore’s overall weather.\n",
    "\n",
    "* Changi Station data is straightforward and widely used as the standard reference due to its long-term reliability and comprehensive coverage. Use this dataset for general analysis where a single, authoritative source is sufficient to represent Singapore’s climate.\n",
    "\n",
    "2. Five-Region Weather Data (weather_region.csv)\n",
    "\n",
    "* This dataset includes weather data from five representative stations across Singapore’s main regions: East (Changi), West (Jurong), South (Harbourfront/Marina South), North (Sembawang), and Central (Marina Centre).\n",
    "\n",
    "* It captures local variations and microclimates across different parts of the city. Use this dataset when regional weather differences are important, or when a more detailed spatial analysis of Singapore’s climate is needed.\n",
    "\n",
    "* The Region column marks the source area of each data record."
   ]
  },
  {
   "cell_type": "markdown",
   "id": "013312d1-2254-4d62-88c3-91e50a836b00",
   "metadata": {},
   "source": [
    "## Changi Station Weather Data"
   ]
  },
  {
   "cell_type": "code",
   "execution_count": 6,
   "id": "4bdeda56-eb03-4daf-a1b0-d62110fd916d",
   "metadata": {},
   "outputs": [
    {
     "name": "stdout",
     "output_type": "stream",
     "text": [
      "                     cloudcover (%)  shortwave_radiation (W/m²·h)\n",
      "2025-01-01 00:00:00           100.0                           0.0\n",
      "2025-01-01 00:30:00           100.0                           0.0\n",
      "2025-01-01 01:00:00           100.0                           0.0\n",
      "2025-01-01 01:30:00           100.0                           0.0\n",
      "2025-01-01 02:00:00           100.0                           0.0\n"
     ]
    }
   ],
   "source": [
    "# Cloud Coverage and Solar Irradiance\n",
    "import pandas as pd\n",
    "import requests\n",
    "from datetime import datetime, timedelta\n",
    "\n",
    "# Singapore Changi Station\n",
    "latitude = 1.3521 \n",
    "longitude = 103.8198\n",
    "\n",
    "# Timeframe\n",
    "start_date = \"2025-01-01\"\n",
    "end_date = \"2025-06-30\"\n",
    "\n",
    "# Open-Meteo API URL\n",
    "#   - hourly=cloudcover,shortwave_radiation\n",
    "#   - timezone=Asia/Singapore\n",
    "#   - start_date, end_date\n",
    "api_url = (\n",
    "    f\"https://archive-api.open-meteo.com/v1/archive?\"\n",
    "    f\"latitude={latitude}&longitude={longitude}\"\n",
    "    f\"&start_date={start_date}&end_date={end_date}\"\n",
    "    f\"&hourly=cloudcover,shortwave_radiation\"\n",
    "    f\"&timezone=Asia/Singapore\"\n",
    ")\n",
    "\n",
    "# Send requist\n",
    "response = requests.get(api_url)\n",
    "\n",
    "# Check requist status\n",
    "if response.status_code == 200:\n",
    "    data = response.json()\n",
    "    \n",
    "    # Extracting time and metrics data\n",
    "    times = data['hourly']['time']  # Time\n",
    "    cloudcover = data['hourly']['cloudcover']  # cloudcover data %\n",
    "    solar_radiation = data['hourly']['shortwave_radiation']  # shortwave_radiation W/m²·h\n",
    "\n",
    "    df_cloud_rad = pd.DataFrame({\n",
    "        'time': pd.to_datetime(times),\n",
    "        'cloudcover (%)': cloudcover,\n",
    "        'shortwave_radiation (W/m²·h)': solar_radiation\n",
    "    })\n",
    "    \n",
    "    # Resample to 30 minutes, linear interpolation\n",
    "    df_cloud_rad['time'] = pd.to_datetime(df_cloud_rad['time'])\n",
    "    df_cloud_rad.set_index('time', inplace=True)\n",
    "    time_30min = pd.date_range(start=df_cloud_rad.index.min(), end=df_cloud_rad.index.max(), freq='30min')\n",
    "    df_cr_30min = df_cloud_rad.reindex(time_30min)\n",
    "    df_cr_30min_interpolated = df_cr_30min.interpolate(method='time')\n",
    "    \n",
    "    # Check data\n",
    "    print(df_cr_30min_interpolated.head())\n",
    "\n",
    "else:\n",
    "    print(\"Failed：\", response.status_code)"
   ]
  },
  {
   "cell_type": "code",
   "execution_count": 7,
   "id": "dc240882-1f89-45b6-8b7f-1d630971ebf5",
   "metadata": {},
   "outputs": [],
   "source": [
    "# Regular Weather data from Meteostat\n",
    "# pip install meteostat\n",
    "from meteostat import Stations, Hourly, Point\n",
    "import matplotlib.pyplot as plt"
   ]
  },
  {
   "cell_type": "code",
   "execution_count": 9,
   "id": "c90bfb7f-5dc9-4712-b43f-3c251afc1781",
   "metadata": {},
   "outputs": [],
   "source": [
    "# Select Changi as the most representative weather station for Singapore\n",
    "lat, lon = 1.3521, 103.8198\n",
    "stations = Stations().nearby(lat, lon)\n",
    "changi_station = stations.fetch(1)            # Find the nearest station\n",
    "changi_station_id = changi_station.index[0]          # meteostat Changi station ID\n",
    "\n",
    "# Download hourly data（2025-01-01 ~ 2025-06-30）\n",
    "start = datetime(2024,12,31,16,00) # In order to get the data of 2025-1-1 12am, it is necessary to start from 2024-12-31 4pm\n",
    "end   = datetime(2025,6,30,23,59)\n",
    "changi_data = Hourly(changi_station_id, start, end)\n",
    "changi_df_hour = changi_data.fetch()                 # DataFrame，index is UTC\n",
    "\n",
    "# Turn UTC to（SGT = Asia/Singapore）\n",
    "if changi_df_hour.index.tz is None:\n",
    "    changi_df_hour = changi_df_hour.tz_localize('UTC').tz_convert('Asia/Singapore')\n",
    "else:\n",
    "    changi_df_hour = changi_df_hour.tz_convert('Asia/Singapore')\n",
    "\n",
    "# Remove time zone information\n",
    "changi_df_hour.index = changi_df_hour.index.tz_localize(None)\n",
    "\n",
    "# Resample to 30 minutes, linear interpolation\n",
    "changi_df_30 = changi_df_hour.resample('30min').interpolate(method='time')\n",
    "\n",
    "# Add cloudcover and hortwave_radiation columns\n",
    "changi_df_30['cloudcover (%)'] = df_cr_30min_interpolated['cloudcover (%)']\n",
    "changi_df_30['shortwave_radiation (W/m²·h)'] = df_cr_30min_interpolated['shortwave_radiation (W/m²·h)']"
   ]
  },
  {
   "cell_type": "code",
   "execution_count": 10,
   "id": "3706876b-193f-4be0-9722-fabcfca1cd10",
   "metadata": {},
   "outputs": [
    {
     "name": "stdout",
     "output_type": "stream",
     "text": [
      "                     temp  dwpt  rhum  prcp  snow  wdir  wspd  wpgt    pres  \\\n",
      "time                                                                          \n",
      "2025-01-01 00:00:00  26.0  24.0  89.0   0.0  <NA>  20.0  11.2  <NA>  1011.0   \n",
      "2025-01-01 00:30:00  26.0  24.0  89.0   0.0  <NA>  25.0  11.2  <NA>  1011.0   \n",
      "2025-01-01 01:00:00  26.0  24.0  89.0   0.0  <NA>  30.0  11.2  <NA>  1011.0   \n",
      "2025-01-01 01:30:00  26.0  24.0  89.0   0.0  <NA>  20.0   9.4  <NA>  1010.5   \n",
      "2025-01-01 02:00:00  26.0  24.0  89.0   0.0  <NA>  10.0   7.6  <NA>  1010.0   \n",
      "\n",
      "                     tsun  coco  cloudcover (%)  shortwave_radiation (W/m²·h)  \n",
      "time                                                                           \n",
      "2025-01-01 00:00:00  <NA>   3.0           100.0                           0.0  \n",
      "2025-01-01 00:30:00  <NA>   3.0           100.0                           0.0  \n",
      "2025-01-01 01:00:00  <NA>   3.0           100.0                           0.0  \n",
      "2025-01-01 01:30:00  <NA>   3.0           100.0                           0.0  \n",
      "2025-01-01 02:00:00  <NA>   3.0           100.0                           0.0  \n"
     ]
    }
   ],
   "source": [
    "print(changi_df_30.head())"
   ]
  },
  {
   "cell_type": "code",
   "execution_count": 11,
   "id": "551c431c-6f47-42da-900c-8747363a3bd1",
   "metadata": {},
   "outputs": [
    {
     "name": "stdout",
     "output_type": "stream",
     "text": [
      "         DATE  PERIOD  temp  dwpt  rhum  prcp  snow  wdir  wspd  wpgt    pres  \\\n",
      "0  2025/01/01       1  26.0  24.0  89.0   0.0  <NA>  20.0  11.2  <NA>  1011.0   \n",
      "1  2025/01/01       2  26.0  24.0  89.0   0.0  <NA>  25.0  11.2  <NA>  1011.0   \n",
      "2  2025/01/01       3  26.0  24.0  89.0   0.0  <NA>  30.0  11.2  <NA>  1011.0   \n",
      "3  2025/01/01       4  26.0  24.0  89.0   0.0  <NA>  20.0   9.4  <NA>  1010.5   \n",
      "4  2025/01/01       5  26.0  24.0  89.0   0.0  <NA>  10.0   7.6  <NA>  1010.0   \n",
      "\n",
      "   tsun  coco  cloudcover (%)  shortwave_radiation (W/m²·h)  \n",
      "0  <NA>   3.0           100.0                           0.0  \n",
      "1  <NA>   3.0           100.0                           0.0  \n",
      "2  <NA>   3.0           100.0                           0.0  \n",
      "3  <NA>   3.0           100.0                           0.0  \n",
      "4  <NA>   3.0           100.0                           0.0  \n"
     ]
    }
   ],
   "source": [
    "# Modify the time format to align with USEP timestamps\n",
    "changi_df_period = changi_df_30.reset_index()\n",
    "\n",
    "changi_df_period['DATE'] = changi_df_period['time'].dt.strftime('%Y/%m/%d')\n",
    "\n",
    "# Add PERIOD column，range from 1 to 48 (30 min/period for 24 hours)\n",
    "changi_df_period['PERIOD'] = changi_df_period['time'].dt.hour * 2 + changi_df_period['time'].dt.minute // 30 + 1\n",
    "\n",
    "cols = ['DATE', 'PERIOD'] + [col for col in changi_df_period.columns if col not in ['time', 'DATE', 'PERIOD']]\n",
    "changi_df_period = changi_df_period[cols]\n",
    "\n",
    "print(changi_df_period.head())"
   ]
  },
  {
   "cell_type": "code",
   "execution_count": 12,
   "id": "4b18dac3-8c6d-4ea1-8e9a-edb1ef4a882e",
   "metadata": {},
   "outputs": [],
   "source": [
    "# Export the weather data of Changi Station to csv\n",
    "changi_df_period.to_csv('weather_changi.csv', index=False, encoding='utf-8')"
   ]
  },
  {
   "cell_type": "markdown",
   "id": "cea2197f-43b6-4b27-9d0c-7350baa4f712",
   "metadata": {},
   "source": [
    "## Five-Region Weather Data"
   ]
  },
  {
   "cell_type": "code",
   "execution_count": 40,
   "id": "a87e40df-3c21-4eb8-b99a-83f4871c1b14",
   "metadata": {},
   "outputs": [
    {
     "name": "stdout",
     "output_type": "stream",
     "text": [
      "                index  cloudcover (%)  shortwave_radiation (W/m²·h) Region\n",
      "0 2025-01-01 00:00:00           100.0                           0.0   East\n",
      "1 2025-01-01 00:30:00           100.0                           0.0   East\n",
      "2 2025-01-01 01:00:00           100.0                           0.0   East\n",
      "3 2025-01-01 01:30:00           100.0                           0.0   East\n",
      "4 2025-01-01 02:00:00           100.0                           0.0   East\n"
     ]
    }
   ],
   "source": [
    "# Locating representative weather stations\n",
    "region_coords = {\n",
    "    'East': (1.3521, 103.8198),          # East: Changi\n",
    "    'West': (1.3327, 103.7432),          # West: Jurong\n",
    "    'South': (1.2734, 103.8198),         # South: Harbourfront / Marina South\n",
    "    'North': (1.4496, 103.8205),         # North: Sembawang\n",
    "    'Central': (1.2790, 103.8545)        # Central: Marina Centre\n",
    "}\n",
    "\n",
    "# Cloud Coverage and Solar Irradiance\n",
    "# Timeframe\n",
    "start_date = \"2025-01-01\"\n",
    "end_date = \"2025-06-30\"\n",
    "\n",
    "all_data_cr5 = []\n",
    "\n",
    "for region, (lat, lon) in region_coords.items():\n",
    "\n",
    "    # Open-Meteo API URL\n",
    "    #   - hourly=cloudcover,shortwave_radiation\n",
    "    #   - timezone=Asia/Singapore\n",
    "    #   - start_date, end_date\n",
    "    api_url = (\n",
    "        f\"https://archive-api.open-meteo.com/v1/archive?\"\n",
    "        f\"latitude={lat}&longitude={lon}\"\n",
    "        f\"&start_date={start_date}&end_date={end_date}\"\n",
    "        f\"&hourly=cloudcover,shortwave_radiation\"\n",
    "        f\"&timezone=Asia/Singapore\"\n",
    "    )\n",
    "    \n",
    "    response = requests.get(api_url)\n",
    "    \n",
    "    if response.status_code == 200:\n",
    "        data = response.json()\n",
    "        times = data['hourly']['time']\n",
    "        cloudcover = data['hourly']['cloudcover']\n",
    "        solar_radiation = data['hourly']['shortwave_radiation']\n",
    "        \n",
    "        df_cr5 = pd.DataFrame({\n",
    "            'time': pd.to_datetime(times),\n",
    "            'cloudcover (%)': cloudcover,\n",
    "            'shortwave_radiation (W/m²·h)': solar_radiation\n",
    "        })\n",
    "\n",
    "        # Resample to 30 minutes, linear interpolation\n",
    "        df_cr5['time'] = pd.to_datetime(df_cr5['time'])\n",
    "        df_cr5.set_index('time', inplace=True)\n",
    "        time_30 = pd.date_range(start=df_cr5.index.min(), end=df_cr5.index.max(), freq='30min')\n",
    "        df_cr5_30 = df_cr5.reindex(time_30)\n",
    "        df_cr5_30_interpolated = df_cr5_30.interpolate(method='time')\n",
    "        \n",
    "        # Add new column to lable \"region\"\n",
    "        df_cr5_30_interpolated['Region'] = region\n",
    "        all_data_cr5.append(df_cr5_30_interpolated)\n",
    "\n",
    "    else:\n",
    "        print(f\"{region} Failed：{response.status_code}\")\n",
    "\n",
    "# Merge all regions data\n",
    "df_all_cr5 = pd.concat(all_data_cr5)\n",
    "df_all_cr5 = df_all_cr5.reset_index()\n",
    "print(df_all_cr5.head())"
   ]
  },
  {
   "cell_type": "code",
   "execution_count": 59,
   "id": "78a5f2bb-2b51-4377-af60-7d06ea49d9ac",
   "metadata": {},
   "outputs": [],
   "source": [
    "# Regular Weather data from Meteostat\n",
    "\n",
    "# Time Period\n",
    "start = datetime(2024,12,31,16,00) # In order to get the data of 2025-1-1 12am, it is necessary to start from 2024-12-31 4pm\n",
    "end = datetime(2025, 6, 30, 23, 59)\n",
    "\n",
    "all_data = []\n",
    "\n",
    "for region, (lat, lon) in region_coords.items():\n",
    "    # Find the nearest weather station ID for each region\n",
    "    stations = Stations().nearby(lat, lon)\n",
    "    station = stations.fetch(1)\n",
    "    station_id = station.index[0]\n",
    "\n",
    "    # Download hourly data\n",
    "    data = Hourly(station_id, start, end)\n",
    "    df_hour = data.fetch()\n",
    "\n",
    "    # Convert time zone from UTC to Singapore time\n",
    "    if df_hour.index.tz is None:\n",
    "        df_hour = df_hour.tz_localize('UTC').tz_convert('Asia/Singapore')\n",
    "    else:\n",
    "        df_hour = df_hour.tz_convert('Asia/Singapore')\n",
    "\n",
    "    # Remove time zone information\n",
    "    df_hour.index = df_hour.index.tz_localize(None)\n",
    "\n",
    "    # Resample to 30 minutes, linear interpolation\n",
    "    df_30 = df_hour.resample('30min').interpolate(method='time')\n",
    "\n",
    "    # Add new column to lable \"region\"\n",
    "    df_30['Region'] = region\n",
    "\n",
    "    all_data.append(df_30)\n",
    "\n",
    "# Merge all regions data\n",
    "df_all = pd.concat(all_data)\n",
    "df_all_period = df_all.reset_index()"
   ]
  },
  {
   "cell_type": "code",
   "execution_count": 60,
   "id": "a7c6e70d-695f-471f-bc26-2e6b89eddb62",
   "metadata": {},
   "outputs": [
    {
     "name": "stdout",
     "output_type": "stream",
     "text": [
      "                 time  temp  dwpt  rhum  prcp  snow  wdir  wspd  wpgt    pres  \\\n",
      "0 2025-01-01 00:00:00  26.0  24.0  89.0   0.0  <NA>  20.0  11.2  <NA>  1011.0   \n",
      "1 2025-01-01 00:30:00  26.0  24.0  89.0   0.0  <NA>  25.0  11.2  <NA>  1011.0   \n",
      "2 2025-01-01 01:00:00  26.0  24.0  89.0   0.0  <NA>  30.0  11.2  <NA>  1011.0   \n",
      "3 2025-01-01 01:30:00  26.0  24.0  89.0   0.0  <NA>  20.0   9.4  <NA>  1010.5   \n",
      "4 2025-01-01 02:00:00  26.0  24.0  89.0   0.0  <NA>  10.0   7.6  <NA>  1010.0   \n",
      "\n",
      "   tsun  coco Region  \n",
      "0  <NA>   3.0   East  \n",
      "1  <NA>   3.0   East  \n",
      "2  <NA>   3.0   East  \n",
      "3  <NA>   3.0   East  \n",
      "4  <NA>   3.0   East  \n"
     ]
    }
   ],
   "source": [
    "print(df_all_period.head())"
   ]
  },
  {
   "cell_type": "code",
   "execution_count": 61,
   "id": "ad52ac5b-b389-44ab-b5bf-6f89ae59b9b9",
   "metadata": {},
   "outputs": [
    {
     "name": "stdout",
     "output_type": "stream",
     "text": [
      "                 time  temp  dwpt  rhum  prcp  snow  wdir  wspd  wpgt    pres  \\\n",
      "0 2025-01-01 00:00:00  26.0  24.0  89.0   0.0  <NA>  20.0  11.2  <NA>  1011.0   \n",
      "1 2025-01-01 00:30:00  26.0  24.0  89.0   0.0  <NA>  25.0  11.2  <NA>  1011.0   \n",
      "2 2025-01-01 01:00:00  26.0  24.0  89.0   0.0  <NA>  30.0  11.2  <NA>  1011.0   \n",
      "3 2025-01-01 01:30:00  26.0  24.0  89.0   0.0  <NA>  20.0   9.4  <NA>  1010.5   \n",
      "4 2025-01-01 02:00:00  26.0  24.0  89.0   0.0  <NA>  10.0   7.6  <NA>  1010.0   \n",
      "\n",
      "   tsun  coco  cloudcover (%)  shortwave_radiation (W/m²·h) Region  \n",
      "0  <NA>   3.0           100.0                           0.0   East  \n",
      "1  <NA>   3.0           100.0                           0.0   East  \n",
      "2  <NA>   3.0           100.0                           0.0   East  \n",
      "3  <NA>   3.0           100.0                           0.0   East  \n",
      "4  <NA>   3.0           100.0                           0.0   East  \n"
     ]
    }
   ],
   "source": [
    "# Add cloudcover and hortwave_radiation columns\n",
    "cols_to_add = df_all_cr5[['cloudcover (%)', 'shortwave_radiation (W/m²·h)']]\n",
    "\n",
    "pos_colA1 = len(df_all_period.columns) - 1\n",
    "pos_colA2 = len(df_all_period.columns)\n",
    "\n",
    "for i, col in enumerate(cols_to_add.columns):\n",
    "    insert_pos = pos_colA1 if i == 0 else pos_colA2\n",
    "    df_all_period.insert(insert_pos, col, cols_to_add[col])\n",
    "\n",
    "print(df_all_period.head())"
   ]
  },
  {
   "cell_type": "code",
   "execution_count": 62,
   "id": "2ebe6bab-ea96-42fd-8b0b-472d37aaa5a0",
   "metadata": {},
   "outputs": [
    {
     "name": "stdout",
     "output_type": "stream",
     "text": [
      "         DATE  PERIOD  temp  dwpt  rhum  prcp  snow  wdir  wspd  wpgt    pres  \\\n",
      "0  2025/01/01       1  26.0  24.0  89.0   0.0  <NA>  20.0  11.2  <NA>  1011.0   \n",
      "1  2025/01/01       2  26.0  24.0  89.0   0.0  <NA>  25.0  11.2  <NA>  1011.0   \n",
      "2  2025/01/01       3  26.0  24.0  89.0   0.0  <NA>  30.0  11.2  <NA>  1011.0   \n",
      "3  2025/01/01       4  26.0  24.0  89.0   0.0  <NA>  20.0   9.4  <NA>  1010.5   \n",
      "4  2025/01/01       5  26.0  24.0  89.0   0.0  <NA>  10.0   7.6  <NA>  1010.0   \n",
      "\n",
      "   tsun  coco  cloudcover (%)  shortwave_radiation (W/m²·h) Region  \n",
      "0  <NA>   3.0           100.0                           0.0   East  \n",
      "1  <NA>   3.0           100.0                           0.0   East  \n",
      "2  <NA>   3.0           100.0                           0.0   East  \n",
      "3  <NA>   3.0           100.0                           0.0   East  \n",
      "4  <NA>   3.0           100.0                           0.0   East  \n"
     ]
    }
   ],
   "source": [
    "# Modify the time format to align with USEP timestamps\n",
    "df_all_period['DATE'] = df_all_period['time'].dt.strftime('%Y/%m/%d')\n",
    "\n",
    "# Add PERIOD column，range from 1 to 48 (30 min/period for 24 hours)\n",
    "df_all_period['PERIOD'] = df_all_period['time'].dt.hour * 2 + df_all_period['time'].dt.minute // 30 + 1\n",
    "\n",
    "cols = ['DATE', 'PERIOD'] + [col for col in df_all_period.columns if col not in ['time', 'DATE', 'PERIOD']]\n",
    "df_all_period = df_all_period[cols]\n",
    "\n",
    "print(df_all_period.head())"
   ]
  },
  {
   "cell_type": "code",
   "execution_count": 63,
   "id": "5047b26a-9bfe-421b-b2dd-f89fbed4a7cd",
   "metadata": {},
   "outputs": [],
   "source": [
    "# Export the weather data to csv\n",
    "df_all_period.to_csv('weather_region.csv', index=False, encoding='utf-8')"
   ]
  },
  {
   "cell_type": "code",
   "execution_count": null,
   "id": "2b0f7ad7-e707-4635-ab27-a841f5990dc1",
   "metadata": {},
   "outputs": [],
   "source": []
  }
 ],
 "metadata": {
  "kernelspec": {
   "display_name": "python_venv",
   "language": "python",
   "name": "python_venv"
  },
  "language_info": {
   "codemirror_mode": {
    "name": "ipython",
    "version": 3
   },
   "file_extension": ".py",
   "mimetype": "text/x-python",
   "name": "python",
   "nbconvert_exporter": "python",
   "pygments_lexer": "ipython3",
   "version": "3.10.11"
  }
 },
 "nbformat": 4,
 "nbformat_minor": 5
}
